{
 "cells": [
  {
   "cell_type": "code",
   "execution_count": 1,
   "id": "cb7696ac-6279-4993-b4c8-e8895194c817",
   "metadata": {
    "tags": []
   },
   "outputs": [],
   "source": [
    "import csv\n",
    "import sqlite3\n",
    "from sqlite3 import Error"
   ]
  },
  {
   "cell_type": "code",
   "execution_count": 2,
   "id": "9a2c7da2-3395-4be1-b134-42e0fc4968f9",
   "metadata": {
    "tags": []
   },
   "outputs": [],
   "source": [
    "def create_connection(db_file):\n",
    "    \"\"\" create a database connection to a SQLite database \"\"\"\n",
    "    conn = None\n",
    "    try:\n",
    "        conn = sqlite3.connect(db_file)\n",
    "        print(sqlite3.version)\n",
    "    except Error as e:\n",
    "        print(e)\n",
    "    return conn"
   ]
  },
  {
   "cell_type": "code",
   "execution_count": 3,
   "id": "a08b3a30-b331-426a-bbc0-b73e9de6454b",
   "metadata": {
    "tags": []
   },
   "outputs": [],
   "source": [
    "def create_table(conn, create_table_sql):\n",
    "    \"\"\" create a table from the create_table_sql statement\n",
    "    :param conn: Connection object\n",
    "    :param create_table_sql: a CREATE TABLE statement\n",
    "    :return:\n",
    "    \"\"\"\n",
    "    try:\n",
    "        c = conn.cursor()\n",
    "        c.execute(create_table_sql)\n",
    "    except Error as e:\n",
    "        print(e)"
   ]
  },
  {
   "cell_type": "code",
   "execution_count": 4,
   "id": "58e62dbb-8cab-4f8e-9728-4b3bb1adcc02",
   "metadata": {
    "tags": []
   },
   "outputs": [],
   "source": [
    "def select_all_data(conn):\n",
    "    cur = conn.cursor()\n",
    "    cur.execute(\"SELECT * FROM pomiary\")\n",
    "\n",
    "    rows = cur.fetchall()\n",
    "\n",
    "    for row in rows:\n",
    "        print(row)\n",
    "        input(\"Dalej? \")\n"
   ]
  },
  {
   "cell_type": "code",
   "execution_count": 5,
   "id": "2850fbc0-7f6f-488f-974c-933fc45e3383",
   "metadata": {
    "tags": []
   },
   "outputs": [],
   "source": [
    "def insert_data_db(conn, pomiar):\n",
    "    sql = ''' INSERT INTO pomiary(ulica,numer_budynku,numer_mieszkania,pomiar,data_pomiaru)\n",
    "                  VALUES(?,?,?,?,?) '''\n",
    "    cur = conn.cursor()\n",
    "    cur.execute(sql, pomiar)\n",
    "    conn.commit()\n",
    "    return cur.lastrowid\n",
    "\n"
   ]
  },
  {
   "cell_type": "code",
   "execution_count": 6,
   "id": "d855aa3e-9e07-4ba3-ad00-1e4c77727c73",
   "metadata": {
    "tags": []
   },
   "outputs": [],
   "source": [
    "def insert_data_user(conn):\n",
    "    ulica = input(\"Podaj ulicę: \")\n",
    "    nr_budynku = input(\"Podaj numer budynku: \")\n",
    "    nr_mieszkania = input(\"Podaj numer mieszkania: \")\n",
    "    pomiar = input(\"Podaj pomiar licznika: \")\n",
    "    data = input(\"Podaj date pomiaru(r-m-d): \")\n",
    "    pomiar = (ulica,nr_budynku,nr_mieszkania, int(pomiar), data)\n",
    "    insert_data_db(conn, pomiar)"
   ]
  },
  {
   "cell_type": "code",
   "execution_count": 7,
   "id": "92512c6d-f7e6-4277-a32b-88bea9fc2ac9",
   "metadata": {
    "tags": []
   },
   "outputs": [],
   "source": [
    "def delete_data(conn,id):\n",
    "    sql = \"DELETE FROM pomiary WHERE id=?\"\n",
    "    cur = conn.cursor()\n",
    "    cur.execute(sql,(id,))\n",
    "    conn.commit()"
   ]
  },
  {
   "cell_type": "code",
   "execution_count": 8,
   "id": "fe6e206a-d1d4-4f77-9223-cc707ce56314",
   "metadata": {
    "tags": []
   },
   "outputs": [],
   "source": [
    "def save_csv(conn):\n",
    "    cur = conn.cursor()\n",
    "    cur.execute(\"SELECT * FROM pomiary\")\n",
    "\n",
    "    rows = cur.fetchall()\n",
    "    with open('pomiary.csv','a', newline='\\n') as file:\n",
    "            writer = csv.writer(file)\n",
    "    for row in rows:\n",
    "        new_row = row[1:]\n",
    "        with open('pomiary.csv','a', newline='\\n') as file:\n",
    "            writer = csv.writer(file)\n",
    "            writer.writerow(new_row)\n",
    "    print(\"Dane zapisane\")\n",
    "    input(\"Dalej? \")"
   ]
  },
  {
   "cell_type": "code",
   "execution_count": 9,
   "id": "1abd1612-47d8-4f13-b0c2-a16a1fd446e4",
   "metadata": {
    "tags": []
   },
   "outputs": [],
   "source": [
    "def program(options, conn):\n",
    "    match options:\n",
    "        case 1:\n",
    "            next_data = \"tak\"\n",
    "            while next_data == \"tak\":\n",
    "                insert_data_user(conn)\n",
    "                print(\"Następne dane?\")\n",
    "                next_data = input(\"Tak/Nie: \")\n",
    "        case 2:\n",
    "            select_all_data(conn)\n",
    "        case 3:\n",
    "            id = input(\"Podaj id: \")\n",
    "            delete_data(conn,id)\n",
    "            print(\"Dane usunięte\")\n",
    "            input(\"Dalej? \")\n",
    "        case 4:\n",
    "            save_csv(conn)\n",
    "\n"
   ]
  },
  {
   "cell_type": "code",
   "execution_count": 10,
   "id": "1e5618f1-1010-44b7-a693-0256dcd7bb5a",
   "metadata": {
    "tags": []
   },
   "outputs": [],
   "source": [
    "def main():\n",
    "    database = \"pomiary_temp.db\"\n",
    "    conn = create_connection(database)\n",
    "    sql_create_pomiary_table = \"\"\" CREATE TABLE IF NOT EXISTS pomiary (\n",
    "                                            id integer PRIMARY KEY,\n",
    "                                            ulica text NOT NULL,\n",
    "                                            numer_budynku int NOT NULL,\n",
    "                                            numer_mieszkania int NOT NULL,\n",
    "                                            pomiar int NOT NULL,\n",
    "                                            data_pomiaru date NOT NULL\n",
    "                                        ); \"\"\"\n",
    "    create_table(conn, sql_create_pomiary_table)\n",
    "    while True:\n",
    "        print(\"1. Wprowadź dane\")\n",
    "        print(\"2. Sprawdź dane\")\n",
    "        print(\"3. Usuń wybrane dane\")\n",
    "        print(\"4. Zapisz dane do pliku csv\")\n",
    "        print(\"5. Wyjdź\")\n",
    "        option = int(input(\"Wybierz opcję: \"))\n",
    "        if option == 5:\n",
    "            break\n",
    "        program(option, conn)\n"
   ]
  },
  {
   "cell_type": "code",
   "execution_count": null,
   "id": "c6a0f0cb-c5cc-4fd8-92c6-a74f5ace60ce",
   "metadata": {
    "tags": []
   },
   "outputs": [
    {
     "name": "stdout",
     "output_type": "stream",
     "text": [
      "2.6.0\n",
      "1. Wprowadź dane\n",
      "2. Sprawdź dane\n",
      "3. Usuń wybrane dane\n",
      "4. Zapisz dane do pliku csv\n",
      "5. Wyjdź\n"
     ]
    }
   ],
   "source": [
    "if __name__ == '__main__':\n",
    "    main()\n"
   ]
  },
  {
   "cell_type": "code",
   "execution_count": null,
   "id": "b3ceb221-8483-43e5-a6c0-1ff5b33235e9",
   "metadata": {},
   "outputs": [],
   "source": []
  }
 ],
 "metadata": {
  "kernelspec": {
   "display_name": "Python 3 (ipykernel)",
   "language": "python",
   "name": "python3"
  },
  "language_info": {
   "codemirror_mode": {
    "name": "ipython",
    "version": 3
   },
   "file_extension": ".py",
   "mimetype": "text/x-python",
   "name": "python",
   "nbconvert_exporter": "python",
   "pygments_lexer": "ipython3",
   "version": "3.11.2"
  }
 },
 "nbformat": 4,
 "nbformat_minor": 5
}
