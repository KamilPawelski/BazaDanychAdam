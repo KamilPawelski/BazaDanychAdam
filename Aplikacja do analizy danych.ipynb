{
 "cells": [
  {
   "cell_type": "code",
   "execution_count": 1,
   "id": "46819ca6-0112-440a-a3cd-6adff92f3773",
   "metadata": {
    "tags": []
   },
   "outputs": [],
   "source": [
    "import psycopg\n",
    "import simplejson\n",
    "import matplotlib.pyplot as plt\n",
    "from matplotlib.cm import get_cmap\n",
    "import pandas as pd"
   ]
  },
  {
   "cell_type": "code",
   "execution_count": 2,
   "id": "900f9ca6-574c-4129-b0f4-b8ff767a5344",
   "metadata": {
    "tags": []
   },
   "outputs": [],
   "source": [
    "def gen_raport(conn):\n",
    "    \n",
    "    cursor = conn.cursor()\n",
    "    \n",
    "    query = \"\"\"\n",
    "    SELECT pomiary.pomiar, pomiary.data, adresy.ulica, adresy.numer_budynku, adresy.numer_mieszkania\n",
    "    FROM pomiary\n",
    "    JOIN adresy ON pomiary.id_adresu = adresy.id;\n",
    "    \"\"\"\n",
    "    cursor.execute(query)\n",
    "    rows = cursor.fetchall()\n",
    "    cursor.close()\n",
    "    \n",
    "    df = pd.DataFrame(rows, columns=['pomiar', 'data', 'ulica', 'numer_budynku', 'numer_mieszkania'])\n",
    "\n",
    "    plt.figure(figsize=(10, 6))\n",
    "    plt.hist(df['pomiar'], bins=10, alpha=0.5, label='Wszystkie adresy')\n",
    "    plt.xlabel('Pomiar')\n",
    "    plt.ylabel('Liczebność')\n",
    "    plt.title('Histogram pomiarów dla wszystkich adresów')\n",
    "    plt.legend()\n",
    "    plt.tight_layout()\n",
    "    \n",
    "    plt.show()\n",
    "    \n",
    "    df = pd.DataFrame(rows, columns=['pomiar', 'data', 'ulica', 'numer_budynku', 'numer_mieszkania'])\n",
    "\n",
    "    df_grouped = df.groupby('ulica').size().reset_index(name='count')\n",
    "\n",
    "    plt.figure(figsize=(10, 6))\n",
    "    plt.bar(df_grouped['ulica'], df_grouped['count'])\n",
    "    plt.xlabel('Ulica')\n",
    "    plt.ylabel('Ilość pomiarów')\n",
    "    plt.title('Wykres słupkowy - Ilość pomiarów dla poszczególnych ulic')\n",
    "    plt.xticks(rotation=90)\n",
    "\n",
    "    plt.show()\n"
   ]
  },
  {
   "cell_type": "code",
   "execution_count": 3,
   "id": "8e479136-ac39-47a1-b0df-6dd9fdf5c9cd",
   "metadata": {
    "tags": []
   },
   "outputs": [],
   "source": [
    "def gen_dataframe(data,sql_columns):\n",
    "    columns_name = []\n",
    "    for el in sql_columns:\n",
    "        match el:\n",
    "            case 'pomiary.pomiar':\n",
    "                columns_name.append(\"Pomiar\")\n",
    "            case 'pomiary.data':\n",
    "                columns_name.append(\"Data pomiaru\")\n",
    "            case 'adresy.ulica':\n",
    "                columns_name.append(\"Ulica\")\n",
    "            case 'adresy.numer_budynku':\n",
    "                columns_name.append(\"Numer budynku\")\n",
    "            case 'adresy.numer_mieszkania':\n",
    "                columns_name.append(\"Numer mieszkania\")\n",
    "    df = pd.DataFrame(data, columns=columns_name)\n",
    "    print(df)\n",
    "    print()\n",
    "    print(\"Zapisać dane do csv?\")\n",
    "    wybor = input(\"1 - TAK, 0 - NIE\")\n",
    "    print()\n",
    "    if(wybor == '1'):\n",
    "        df.to_csv('dane.csv', index=False)\n",
    "    "
   ]
  },
  {
   "cell_type": "code",
   "execution_count": 4,
   "id": "86e64453-1b18-4cd3-910f-a935584c055d",
   "metadata": {
    "tags": []
   },
   "outputs": [],
   "source": [
    "def select_data(conn,sql_columns,sql_condition):\n",
    "    cur = conn.cursor()\n",
    "    query = f\"SELECT {', '.join(sql_columns)} FROM adresy JOIN pomiary ON adresy.id = pomiary.id_adresu WHERE {sql_condition}\"\n",
    "    cur.execute(query)\n",
    "    results = cur.fetchall()\n",
    "    gen_dataframe(results,sql_columns)"
   ]
  },
  {
   "cell_type": "code",
   "execution_count": 5,
   "id": "f8a84f55-c437-40f1-9015-4702101120ae",
   "metadata": {
    "tags": []
   },
   "outputs": [],
   "source": [
    "def prepare_conditions(conn,kolumny,warunki):\n",
    "    sql_columns = []\n",
    "    sql_condition = \"\"\n",
    "    i=0\n",
    "    for el in kolumny:\n",
    "        match el:\n",
    "            case '1':\n",
    "                sql_columns.append(\"pomiary.pomiar\")\n",
    "            case '2':\n",
    "                sql_columns.append(\"pomiary.data\")\n",
    "            case '3':\n",
    "                sql_columns.append(\"adresy.ulica\")\n",
    "            case '4':\n",
    "                sql_columns.append(\"adresy.numer_budynku\")\n",
    "            case '5':\n",
    "                sql_columns.append(\"adresy.numer_mieszkania\")\n",
    "    for el in warunki:\n",
    "        if(i>0):\n",
    "            sql_condition += \" AND \"\n",
    "        match el:\n",
    "            case '1':\n",
    "                print(\"1. Większy niż\")\n",
    "                print(\"2. Mniejszy niż\")\n",
    "                print(\"3. Równy\")\n",
    "                wybor = input(\"Pomiar ma być: \")\n",
    "                wartosc = input(\"Podaj wartość do warunku: \")\n",
    "                print()\n",
    "                match wybor:\n",
    "                    case '1':\n",
    "                        sql_condition += \"pomiary.pomiar > \" + wartosc\n",
    "                    case '2':\n",
    "                        sql_condition += \"pomiary.pomiar < \" + wartosc\n",
    "                    case '3':\n",
    "                        sql_condition += \"pomiary.pomiar = \" + wartosc\n",
    "            case '2':\n",
    "                print(\"1. Większy niż\")\n",
    "                print(\"2. Mniejszy niż\")\n",
    "                print(\"3. Równy\")\n",
    "                wybor = input(\"Data pomiaru ma być: \")\n",
    "                wartosc = input(\"Podaj wartość do warunku: \")\n",
    "                print()\n",
    "                match wybor:\n",
    "                    case '1':\n",
    "                        sql_condition += \"pomiary.data > \" + \"'\" + wartosc + \"'\"\n",
    "                    case '2':\n",
    "                        sql_condition += \"pomiary.data < \" + \"'\" + wartosc + \"'\"\n",
    "                    case '3':\n",
    "                        sql_condition += \"pomiary.data = \" + \"'\" + wartosc + \"'\"\n",
    "            case '3':\n",
    "                wartosc = input(\"Podaj nazwę ulicy: \")\n",
    "                print()\n",
    "                sql_condition += \"adresy.ulica = \" + \"'\" + wartosc + \"'\"\n",
    "            case '4':\n",
    "                print(\"1. Większy niż\")\n",
    "                print(\"2. Mniejszy niż\")\n",
    "                print(\"3. Równy\")\n",
    "                wybor = input(\"Numer budynku ma być: \")\n",
    "                wartosc = input(\"Podaj wartość do warunku: \")\n",
    "                print()\n",
    "                match wybor:\n",
    "                    case '1':\n",
    "                        sql_condition += \"adresy.numer_budynku > \" + wartosc\n",
    "                    case '2':\n",
    "                        sql_condition += \"adresy.numer_budynku < \" + wartosc\n",
    "                    case '3':\n",
    "                        sql_condition += \"adresy.numer_budynku = \" + wartosc\n",
    "            case '5':\n",
    "                print(\"1. Większy niż\")\n",
    "                print(\"2. Mniejszy niż\")\n",
    "                print(\"3. Równy\")\n",
    "                wybor = input(\"Numer mieszkania ma być: \")\n",
    "                wartosc = input(\"Podaj wartość do warunku: \")\n",
    "                print()\n",
    "                match wybor:\n",
    "                    case '1':\n",
    "                        sql_condition += \"adresy.numer_mieszkania > \" + wartosc\n",
    "                    case '2':\n",
    "                        sql_condition += \"adresy.numer_mieszkania < \" + wartosc\n",
    "                    case '3':\n",
    "                        sql_condition += \"adresy.numer_mieszkania = \" + wartosc\n",
    "                \n",
    "        i += 1\n",
    "    select_data(conn,sql_columns,sql_condition)"
   ]
  },
  {
   "cell_type": "code",
   "execution_count": 6,
   "id": "89d15d81-7436-4b2a-a16b-2c792aed1063",
   "metadata": {
    "tags": []
   },
   "outputs": [],
   "source": [
    "def program(conn,wybor):\n",
    "    match wybor:\n",
    "        case '1':\n",
    "            gen_raport(conn)\n",
    "        case '2':\n",
    "            kolumny = []\n",
    "            warunki = []\n",
    "            while True:\n",
    "                print(\"0. Dalej\")\n",
    "                print(\"1. Pomiar\")\n",
    "                print(\"2. Date pomiaru\")\n",
    "                print(\"3. Ulice\")\n",
    "                print(\"4. Numer budynku\")\n",
    "                print(\"5. Numer mieszkania\")\n",
    "                wybor = input(\"Wybierz jakie kolumny wyświetlić: \")\n",
    "                print()\n",
    "                if(wybor== '0'):\n",
    "                    break\n",
    "                kolumny.append(wybor)\n",
    "            while True:\n",
    "                print(\"0. Dalej\")\n",
    "                print(\"1. Pomiar\")\n",
    "                print(\"2. Date pomiaru\")\n",
    "                print(\"3. Ulice\")\n",
    "                print(\"4. Numer budynku\")\n",
    "                print(\"5. Numer mieszkania\")\n",
    "                wybor = input(\"Wybierz po jakich kolumnach filtrować dane: \")\n",
    "                print()\n",
    "                if(wybor== '0'):\n",
    "                    break\n",
    "                warunki.append(wybor)\n",
    "                \n",
    "            prepare_conditions(conn,kolumny,warunki)\n",
    "    "
   ]
  },
  {
   "cell_type": "code",
   "execution_count": 7,
   "id": "a2776993-06f6-4c6c-865f-fe136db2f79e",
   "metadata": {
    "tags": []
   },
   "outputs": [],
   "source": [
    "def main():\n",
    "    with open(\"database_creds.json\") as db_con_file:\n",
    "        creds = simplejson.loads(db_con_file.read())\n",
    "   \n",
    "    conn = psycopg.connect(\n",
    "        host=creds['host_name'],\n",
    "        user=creds['user_name'],\n",
    "        dbname=creds['db_name'],\n",
    "        password=creds['password'],\n",
    "        port=creds['port_number'])\n",
    "    \n",
    "    while True:\n",
    "        print(\"0. Wyjdź\")\n",
    "        print(\"1. Wyświetl raport\")\n",
    "        print(\"2. Wyświetl dane\")\n",
    "        wybor = input(\"Wybierz opcje: \")\n",
    "        print()\n",
    "        if(wybor == '0'):\n",
    "            break\n",
    "        program(conn,wybor)\n",
    "    \n",
    "    conn.close()\n"
   ]
  },
  {
   "cell_type": "code",
   "execution_count": null,
   "id": "3e08e0a6-eef7-4a63-bd97-0824a07b1a49",
   "metadata": {
    "tags": []
   },
   "outputs": [
    {
     "name": "stdout",
     "output_type": "stream",
     "text": [
      "0. Wyjdź\n",
      "1. Wyświetl raport\n",
      "2. Wyświetl dane\n"
     ]
    }
   ],
   "source": [
    "if __name__ == '__main__':\n",
    "    main()"
   ]
  },
  {
   "cell_type": "code",
   "execution_count": null,
   "id": "edb9bbf3-fa21-4588-8a18-ab415f42ff92",
   "metadata": {},
   "outputs": [],
   "source": []
  }
 ],
 "metadata": {
  "kernelspec": {
   "display_name": "DBMS1 (SQLAlchemy)",
   "language": "python",
   "name": "dbms1"
  },
  "language_info": {
   "codemirror_mode": {
    "name": "ipython",
    "version": 3
   },
   "file_extension": ".py",
   "mimetype": "text/x-python",
   "name": "python",
   "nbconvert_exporter": "python",
   "pygments_lexer": "ipython3",
   "version": "3.11.2"
  }
 },
 "nbformat": 4,
 "nbformat_minor": 5
}
