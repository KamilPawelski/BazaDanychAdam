{
 "cells": [
  {
   "cell_type": "code",
   "execution_count": 1,
   "id": "61e4030b-f339-4099-a6f7-17fc98ab63f6",
   "metadata": {
    "tags": []
   },
   "outputs": [],
   "source": [
    "import psycopg\n",
    "import simplejson\n",
    "import csv"
   ]
  },
  {
   "cell_type": "code",
   "execution_count": 2,
   "id": "f5aaeddb-80c9-4fbb-a9c7-6801c5df7ef0",
   "metadata": {
    "tags": []
   },
   "outputs": [],
   "source": [
    "def create_table_adresy(conn):\n",
    "    sql_command = \"\"\"CREATE TABLE IF NOT EXISTS public.adresy\n",
    "(\n",
    "    id integer NOT NULL GENERATED ALWAYS AS IDENTITY ( INCREMENT 1 START 1 MINVALUE 1 MAXVALUE 2147483647 CACHE 1 ),\n",
    "    ulica text COLLATE pg_catalog.\"default\" NOT NULL,\n",
    "    numer_budynku integer NOT NULL,\n",
    "    numer_mieszkania integer NOT NULL,\n",
    "    CONSTRAINT adresy_pkey PRIMARY KEY (id)\n",
    ");\"\"\"\n",
    "    cur = conn.cursor()\n",
    "    cur.execute(sql_command)\n",
    "    conn.commit()\n",
    "    cur.close()\n",
    "    print(\"Tabela adresy utworzona z sukcesem\")"
   ]
  },
  {
   "cell_type": "code",
   "execution_count": 3,
   "id": "a94ee923-8055-4a40-8c44-9540035f4dc8",
   "metadata": {
    "tags": []
   },
   "outputs": [],
   "source": [
    "def create_table_pomiary(conn):\n",
    "    sql_command = \"\"\"CREATE TABLE IF NOT EXISTS public.pomiary\n",
    "(\n",
    "    id integer NOT NULL GENERATED ALWAYS AS IDENTITY ( INCREMENT 1 START 1 MINVALUE 1 MAXVALUE 2147483647 CACHE 1 ),\n",
    "    pomiar integer NOT NULL,\n",
    "    data date NOT NULL,\n",
    "    id_adresu integer NOT NULL,\n",
    "    CONSTRAINT pomiary_pkey PRIMARY KEY (id),\n",
    "    CONSTRAINT id_adresu FOREIGN KEY (id_adresu)\n",
    "        REFERENCES public.adresy (id) MATCH SIMPLE\n",
    "        ON UPDATE NO ACTION\n",
    "        ON DELETE NO ACTION\n",
    ");\"\"\"\n",
    "    cur = conn.cursor()\n",
    "    cur.execute(sql_command)\n",
    "    conn.commit()\n",
    "    cur.close()\n",
    "    print(\"Tabela pomiary utworzona z sukcesem\")"
   ]
  },
  {
   "cell_type": "code",
   "execution_count": 4,
   "id": "b3b6c2f4-0d16-4a33-bf04-83463837fe2c",
   "metadata": {
    "tags": []
   },
   "outputs": [],
   "source": [
    "def delete_table_adresy(conn):\n",
    "    sql_command = \"\"\"\n",
    "        DROP TABLE IF EXISTS public.\"adresy\";\"\"\"\n",
    "    cur = conn.cursor()\n",
    "    cur.execute(sql_command)\n",
    "    conn.commit()\n",
    "    cur.close()\n",
    "    print(\"Tabela adresy usunięta z sukcesem\")"
   ]
  },
  {
   "cell_type": "code",
   "execution_count": 5,
   "id": "ef61078d-c1b5-4cfe-b7fd-445e8c6c392b",
   "metadata": {
    "tags": []
   },
   "outputs": [],
   "source": [
    "def delete_table_pomiary(conn):\n",
    "    sql_command = \"\"\"\n",
    "        DROP TABLE IF EXISTS public.\"pomiary\";\"\"\"\n",
    "    cur = conn.cursor()\n",
    "    cur.execute(sql_command)\n",
    "    conn.commit()\n",
    "    cur.close()\n",
    "    print(\"Tabela pomiary usunięta z sukcesem\")"
   ]
  },
  {
   "cell_type": "code",
   "execution_count": 6,
   "id": "41242083-e15c-4747-80f0-52c4ba82bb89",
   "metadata": {
    "tags": []
   },
   "outputs": [],
   "source": [
    "def insert_to_adresy(conn):\n",
    "    with open(\"adresy_temp.csv\", 'r') as file:\n",
    "        reader = csv.reader(file)\n",
    "        cur = conn.cursor()\n",
    "        for row in reader:\n",
    "            data_tuple = tuple(row)\n",
    "            cur.execute(\n",
    "                \"\"\"INSERT INTO adresy (ulica,numer_budynku,numer_mieszkania)\n",
    "                VALUES (%s,%s,%s);\"\"\",\n",
    "                data_tuple\n",
    "            )\n",
    "            conn.commit()\n",
    "    cur.close()\n",
    "    print(\"Testowe dane wprowadzone do tabeli adresy z sukcesem\")"
   ]
  },
  {
   "cell_type": "code",
   "execution_count": 7,
   "id": "037f06e6-e02c-4ecb-9212-a789f06cc1f1",
   "metadata": {
    "tags": []
   },
   "outputs": [],
   "source": [
    "def insert_to_pomiary(conn):\n",
    "    with open(\"pomiary_temp.csv\",'r') as file:\n",
    "        reader = csv.reader(file)\n",
    "        i = 0\n",
    "        for row in reader:\n",
    "            cur = conn.cursor()\n",
    "            data_tupla = tuple(row)\n",
    "            data_tupla_adres = data_tupla[:3]\n",
    "            data_tupla_pomiar = data_tupla[3:5]\n",
    "            cur.execute(\"\"\"SELECT * FROM adresy WHERE ulica = %s AND numer_budynku = %s AND numer_mieszkania = %s;\"\"\",data_tupla_adres)\n",
    "            id = cur.fetchone()[0]\n",
    "            data_tupla_all = data_tupla_pomiar + (id,)\n",
    "            cur.execute(\n",
    "                \"\"\"INSERT INTO pomiary (pomiar,data,id_adresu)\n",
    "                VALUES (%s,%s,%s);\"\"\",\n",
    "                data_tupla_all\n",
    "            )\n",
    "            conn.commit()\n",
    "        cur.close()\n",
    "        print(\"Testowe dane wprowadzone do tabeli pomiary z sukcesem\")"
   ]
  },
  {
   "cell_type": "code",
   "execution_count": 8,
   "id": "af91f9e0-9f7b-4826-8442-9eb4b8b633b7",
   "metadata": {
    "tags": []
   },
   "outputs": [],
   "source": [
    "def clear_table_adresy(conn):\n",
    "    sql_command = \"\"\"\n",
    "        TRUNCATE TABLE adresy CASCADE;\"\"\"\n",
    "    cur = conn.cursor()\n",
    "    cur.execute(sql_command)\n",
    "    conn.commit()\n",
    "    cur.close()\n",
    "    print(\"Dane z tabeli adresy usunięte z sukcesem\")"
   ]
  },
  {
   "cell_type": "code",
   "execution_count": 9,
   "id": "ceefe6ac-80f0-4718-a8c0-85b69383513c",
   "metadata": {
    "tags": []
   },
   "outputs": [],
   "source": [
    "def clear_table_pomiary(conn):\n",
    "    sql_command = \"\"\"\n",
    "        TRUNCATE TABLE pomiary CASCADE;\"\"\"\n",
    "    cur = conn.cursor()\n",
    "    cur.execute(sql_command)\n",
    "    conn.commit()\n",
    "    cur.close()\n",
    "    print(\"Dane z tabeli pomiary usunięte z sukcesem\")"
   ]
  },
  {
   "cell_type": "code",
   "execution_count": 10,
   "id": "d7156930-1d7a-42ce-925f-9f8b8ef6725a",
   "metadata": {
    "tags": []
   },
   "outputs": [],
   "source": [
    "def insert_data_from_sqlite(conn):\n",
    "    with open(\"pomiary.csv\",'r') as file:\n",
    "        reader = csv.reader(file)\n",
    "        i = 0\n",
    "        for row in reader:\n",
    "            cur = conn.cursor()\n",
    "            data_tupla = tuple(row)\n",
    "            data_tupla_adres = data_tupla[:3]\n",
    "            data_tupla_pomiar = data_tupla[3:5]\n",
    "            cur.execute(\"\"\"SELECT * FROM adresy WHERE ulica = %s AND numer_budynku = %s AND numer_mieszkania = %s;\"\"\",data_tupla_adres)\n",
    "            id = cur.fetchone()[0]\n",
    "            data_tupla_all = data_tupla_pomiar + (id,)\n",
    "            cur.execute(\n",
    "                \"\"\"INSERT INTO pomiary (pomiar,data,id_adresu)\n",
    "                VALUES (%s,%s,%s);\"\"\",\n",
    "                data_tupla_all\n",
    "            )\n",
    "            conn.commit()\n",
    "        cur.close()\n",
    "        print(\"Dane z pliku csv wprowadzone z sukcesem\")"
   ]
  },
  {
   "cell_type": "code",
   "execution_count": 11,
   "id": "232e672d-4693-403f-ae8a-960a77b3f8ed",
   "metadata": {
    "tags": []
   },
   "outputs": [],
   "source": [
    "def insert_from_sqlite(conn):\n",
    "    insert_data_from_sqlite(conn)"
   ]
  },
  {
   "cell_type": "code",
   "execution_count": 12,
   "id": "4dbe9705-21c8-464f-ab54-eedbd76ceeff",
   "metadata": {
    "tags": []
   },
   "outputs": [],
   "source": [
    "def clear_tables(conn):\n",
    "    clear_table_adresy(conn)\n",
    "    clear_table_pomiary(conn)"
   ]
  },
  {
   "cell_type": "code",
   "execution_count": 13,
   "id": "a1a29905-defe-40d4-9e65-cb47bf15011d",
   "metadata": {
    "tags": []
   },
   "outputs": [],
   "source": [
    "def insert_temp_data(conn):\n",
    "    insert_to_adresy(conn)\n",
    "    insert_to_pomiary(conn)"
   ]
  },
  {
   "cell_type": "code",
   "execution_count": 14,
   "id": "06947a7c-90d0-4dc1-a6f4-98fa4404fa99",
   "metadata": {
    "tags": []
   },
   "outputs": [],
   "source": [
    "def create_tables(conn):\n",
    "    create_table_adresy(conn)\n",
    "    create_table_pomiary(conn)"
   ]
  },
  {
   "cell_type": "code",
   "execution_count": 15,
   "id": "73b1e86a-7f0f-466d-998c-590d54db8427",
   "metadata": {
    "tags": []
   },
   "outputs": [],
   "source": [
    "def delete_tables(conn):\n",
    "    delete_table_pomiary(conn)\n",
    "    delete_table_adresy(conn)"
   ]
  },
  {
   "cell_type": "code",
   "execution_count": 16,
   "id": "3be67e66-ebd6-43fb-98df-47abf253035f",
   "metadata": {
    "tags": []
   },
   "outputs": [],
   "source": [
    "def program(conn, wybor):\n",
    "    match wybor:\n",
    "        case '1':\n",
    "            print(\"1. Utwórz tabele adresy\")\n",
    "            print(\"2. Utwórz tabele pomiary\")\n",
    "            print(\"3. Utwórz obie tabele\")\n",
    "            tab = input(\"Wybierz opcję: \")\n",
    "            if(tab == '1'):\n",
    "                create_table_adresy(conn)\n",
    "            if(tab == '2'):\n",
    "                create_table_pomiary(conn)\n",
    "            if(tab == '3'):\n",
    "                create_tables(conn)\n",
    "        case '2':\n",
    "            print(\"1. Usuń tabele pomiary\")\n",
    "            print(\"2. Usuń tabele adresy\")\n",
    "            print(\"3. Usuń obie tabele\")\n",
    "            tab = input(\"Wybierz opcję: \")\n",
    "            if(tab == '1'):\n",
    "                delete_table_pomiary(conn)\n",
    "            if(tab == '2'):\n",
    "                delete_table_adresy(conn)\n",
    "            if(tab == '3'):\n",
    "                delete_tables(conn)\n",
    "        case '3':\n",
    "            print(\"1. Wgraj dane do tabeli adresy\")\n",
    "            print(\"2. Wgraj dane do tabeli pomiary\")\n",
    "            print(\"3. Wgraj dane do wszystkich tabel\")\n",
    "            tab = input(\"Wybierz opcję: \")\n",
    "            if(tab == '1'):\n",
    "                insert_to_adresy(conn)\n",
    "            if(tab == '2'):\n",
    "                insert_to_pomiary(conn)\n",
    "            if(tab == '3'):\n",
    "                insert_temp_data(conn)\n",
    "        case '4':\n",
    "            print(\"1. Usuń dane z tabeli adresy\")\n",
    "            print(\"2. Usuń dane z tabeli pomiary\")\n",
    "            print(\"3. Usuń dane ze wszystkich tabel\")\n",
    "            tab = input(\"Wybierz opcję: \")\n",
    "            if(tab == '1'):\n",
    "                clear_table_adresy(conn)\n",
    "            if(tab == '2'):\n",
    "                clear_table_pomiary(conn)\n",
    "            if(tab == '3'):\n",
    "                clear_tables(conn)\n",
    "        case '5':\n",
    "            insert_data_from_sqlite(conn)\n"
   ]
  },
  {
   "cell_type": "code",
   "execution_count": 17,
   "id": "4618cb12-28e8-40b9-b5e1-08b8d297bf5c",
   "metadata": {
    "tags": []
   },
   "outputs": [],
   "source": [
    "def main():\n",
    "\n",
    "    with open(\"database_creds.json\") as db_con_file:\n",
    "        creds = simplejson.loads(db_con_file.read())\n",
    "   \n",
    "    conn = psycopg.connect(\n",
    "        host=creds['host_name'],\n",
    "        user=creds['user_name'],\n",
    "        dbname=creds['db_name'],\n",
    "        password=creds['password'],\n",
    "        port=creds['port_number'])\n",
    "    while True:\n",
    "        print(\"1. Utwórz tabelę\")\n",
    "        print(\"2. Usuń tabelę\")\n",
    "        print(\"3. Wgraj testowe dane\")\n",
    "        print(\"4. Usuń dane z tabeli\")\n",
    "        print(\"5. Wgraj dane z pliku csv\")\n",
    "        print(\"0. Wyjdź\")\n",
    "        wybor = input(\"Wybierz opcję: \")\n",
    "        if(wybor == '0'):\n",
    "            break\n",
    "        program(conn,wybor)\n",
    "    conn.close()  "
   ]
  },
  {
   "cell_type": "code",
   "execution_count": null,
   "id": "7eb2a863-0e74-4cf0-9649-bb1bed29f07d",
   "metadata": {
    "tags": []
   },
   "outputs": [
    {
     "name": "stdout",
     "output_type": "stream",
     "text": [
      "1. Utwórz tabelę\n",
      "2. Usuń tabelę\n",
      "3. Wgraj testowe dane\n",
      "4. Usuń dane z tabeli\n",
      "5. Wgraj dane z pliku csv\n",
      "0. Wyjdź\n"
     ]
    }
   ],
   "source": [
    "if __name__ == '__main__':\n",
    "    main()"
   ]
  },
  {
   "cell_type": "code",
   "execution_count": null,
   "id": "83b54781-1b25-4666-b525-bde8ad13a251",
   "metadata": {},
   "outputs": [],
   "source": []
  }
 ],
 "metadata": {
  "kernelspec": {
   "display_name": "DBMS1 (SQLAlchemy)",
   "language": "python",
   "name": "dbms1"
  },
  "language_info": {
   "codemirror_mode": {
    "name": "ipython",
    "version": 3
   },
   "file_extension": ".py",
   "mimetype": "text/x-python",
   "name": "python",
   "nbconvert_exporter": "python",
   "pygments_lexer": "ipython3",
   "version": "3.11.2"
  }
 },
 "nbformat": 4,
 "nbformat_minor": 5
}
